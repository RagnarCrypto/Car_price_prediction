{
  "nbformat": 4,
  "nbformat_minor": 0,
  "metadata": {
    "colab": {
      "name": "Car_Price_Prediction.ipynb",
      "provenance": []
    },
    "kernelspec": {
      "name": "python3",
      "display_name": "Python 3"
    },
    "language_info": {
      "name": "python"
    },
    "accelerator": "GPU"
  },
  "cells": [
    {
      "cell_type": "code",
      "metadata": {
        "colab": {
          "base_uri": "https://localhost:8080/"
        },
        "id": "NlhVA6qrJ3yc",
        "outputId": "fb0fbb12-9e76-4b70-e6f7-6be9333295b1"
      },
      "source": [
        "!pip install pycodestyle\n",
        "!pip install --index-url https://test.pypi.org/simple/ nbpep8"
      ],
      "execution_count": 1,
      "outputs": [
        {
          "output_type": "stream",
          "name": "stdout",
          "text": [
            "Collecting pycodestyle\n",
            "  Downloading pycodestyle-2.8.0-py2.py3-none-any.whl (42 kB)\n",
            "\u001b[?25l\r\u001b[K     |███████▉                        | 10 kB 25.8 MB/s eta 0:00:01\r\u001b[K     |███████████████▋                | 20 kB 26.7 MB/s eta 0:00:01\r\u001b[K     |███████████████████████▍        | 30 kB 12.4 MB/s eta 0:00:01\r\u001b[K     |███████████████████████████████▏| 40 kB 9.6 MB/s eta 0:00:01\r\u001b[K     |████████████████████████████████| 42 kB 808 kB/s \n",
            "\u001b[?25hInstalling collected packages: pycodestyle\n",
            "Successfully installed pycodestyle-2.8.0\n",
            "Looking in indexes: https://test.pypi.org/simple/\n",
            "Collecting nbpep8\n",
            "  Downloading https://test-files.pythonhosted.org/packages/c1/07/6b91c986efe7c3adac9e2ec061037f0cc4307925819d37277c3802c2d117/nbpep8-0.0.15-py3-none-any.whl (3.2 kB)\n",
            "Installing collected packages: nbpep8\n",
            "Successfully installed nbpep8-0.0.15\n"
          ]
        }
      ]
    },
    {
      "cell_type": "code",
      "metadata": {
        "colab": {
          "base_uri": "https://localhost:8080/"
        },
        "id": "mHhypbbE-y3O",
        "outputId": "eb07920d-67d4-483b-bcd3-ffb40d60bcbf"
      },
      "source": [
        "from tensorflow.keras.models import Sequential\n",
        "from tensorflow.keras.layers import Dropout, Dense, Activation, BatchNormalization\n",
        "from tensorflow.keras import utils\n",
        "from tensorflow.keras.preprocessing import image\n",
        "from tensorflow.keras.optimizers import Adam, Adadelta\n",
        "import matplotlib.pyplot as plt\n",
        "import numpy as np\n",
        "import pandas as pd\n",
        "from google.colab import files\n",
        "from sklearn.preprocessing import LabelEncoder, StandardScaler\n",
        "from sklearn import preprocessing\n",
        "from sklearn.model_selection import train_test_split\n",
        "from nbpep8.nbpep8 import pep8\n",
        "\n",
        "%matplotlib inline\n",
        "\n",
        "pep8(_ih)"
      ],
      "execution_count": 2,
      "outputs": [
        {
          "output_type": "stream",
          "name": "stdout",
          "text": [
            "cell_content.py:2:80: E501 line too long (82 > 79 characters)\n",
            "\n"
          ]
        }
      ]
    },
    {
      "cell_type": "code",
      "metadata": {
        "colab": {
          "base_uri": "https://localhost:8080/"
        },
        "id": "1pf2crQoL5Cb",
        "outputId": "b320a2bc-4e38-4ba7-dbb3-3f0783c49783"
      },
      "source": [
        "def upload_file():\n",
        "    uploaded = files.upload()\n",
        "    !ls\n",
        "    filename = next(iter(uploaded))\n",
        "    print(filename)\n",
        "    cars = pd.read_csv(str(filename), sep=',')\n",
        "    cars = cars.dropna()\n",
        "\n",
        "    return cars\n",
        "\n",
        "\n",
        "pep8(_ih)"
      ],
      "execution_count": 83,
      "outputs": [
        {
          "output_type": "stream",
          "name": "stdout",
          "text": [
            "\n"
          ]
        }
      ]
    },
    {
      "cell_type": "code",
      "metadata": {
        "id": "YsAZywkRUdWz"
      },
      "source": [
        "cars = upload_file()"
      ],
      "execution_count": null,
      "outputs": []
    },
    {
      "cell_type": "code",
      "metadata": {
        "colab": {
          "base_uri": "https://localhost:8080/"
        },
        "id": "ZLQBkFk9Sy9M",
        "outputId": "3804dce6-9810-41d8-b305-0e90438e6d51"
      },
      "source": [
        "def create_dict_for_str_parameters(col):\n",
        "    dict_out = {}\n",
        "    for _id, name in enumerate(col):\n",
        "        dict_out.update({name: _id})\n",
        "\n",
        "    return dict_out\n",
        "\n",
        "\n",
        "pep8(_ih)"
      ],
      "execution_count": 5,
      "outputs": [
        {
          "output_type": "stream",
          "name": "stdout",
          "text": [
            "\n"
          ]
        }
      ]
    },
    {
      "cell_type": "code",
      "metadata": {
        "colab": {
          "base_uri": "https://localhost:8080/"
        },
        "id": "TRfP6yIj1H8H",
        "outputId": "8e81e179-13ee-42c0-842f-81acc8aee6f8"
      },
      "source": [
        "marks_dict = create_dict_for_str_parameters(set(cars['mark']))\n",
        "models_dict = create_dict_for_str_parameters(set(cars['model']))\n",
        "bodies_dict = create_dict_for_str_parameters(set(cars['body']))\n",
        "kpps_dict = create_dict_for_str_parameters(set(cars['kpp']))\n",
        "fuels_dict = create_dict_for_str_parameters(set(cars['fuel']))\n",
        "\n",
        "prices = np.array(cars['price'], dtype=np.float)\n",
        "\n",
        "years = preprocessing.scale(cars['year'])\n",
        "mileages = preprocessing.scale(cars['mileage'])\n",
        "volumes = preprocessing.scale(cars['volume'])\n",
        "powers = preprocessing.scale(cars['power'])\n",
        "\n",
        "pep8(_ih)"
      ],
      "execution_count": 85,
      "outputs": [
        {
          "output_type": "stream",
          "name": "stdout",
          "text": [
            "\n"
          ]
        }
      ]
    },
    {
      "cell_type": "code",
      "metadata": {
        "colab": {
          "base_uri": "https://localhost:8080/"
        },
        "id": "7tOq_AeyTxl0",
        "outputId": "71b998ad-a420-48e9-aa5a-aa38ea4147cd"
      },
      "source": [
        "def to_ohe(str_value, dic):\n",
        "    arr = [0] * len(dic)\n",
        "    arr[dic[str_value]] = 1\n",
        "\n",
        "    return arr\n",
        "\n",
        "\n",
        "pep8(_ih)"
      ],
      "execution_count": 89,
      "outputs": [
        {
          "output_type": "stream",
          "name": "stdout",
          "text": [
            "\n"
          ]
        }
      ]
    },
    {
      "cell_type": "code",
      "metadata": {
        "id": "YICwSe_3sQBI"
      },
      "source": [
        "def samples(cars):\n",
        "    x_samples = []\n",
        "    y_samples = []\n",
        "\n",
        "    for _id, car in enumerate(np.array(cars)):\n",
        "        y_samples.append(prices[_id])\n",
        "\n",
        "        x_line = to_ohe(car[0], marks_dict) +\\\n",
        "            to_ohe(car[1], models_dict) +\\\n",
        "            to_ohe(car[5], bodies_dict) +\\\n",
        "            to_ohe(car[6], kpps_dict) +\\\n",
        "            to_ohe(car[7], fuels_dict) +\\\n",
        "            [years[_id]] +\\\n",
        "            [mileages[_id]] +\\\n",
        "            [volumes[_id]] +\\\n",
        "            [powers[_id]]\n",
        "\n",
        "        x_samples.append(x_line)\n",
        "\n",
        "    x_samples = np.array(x_samples, dtype=np.float)\n",
        "    y_samples = np.array(y_samples, dtype=np.float)\n",
        "\n",
        "    return x_samples, y_samples\n",
        "\n",
        "\n",
        "pep8(_ih)"
      ],
      "execution_count": null,
      "outputs": []
    },
    {
      "cell_type": "code",
      "metadata": {
        "id": "O7KR0dtr10rH"
      },
      "source": [
        "x_samples, y_samples = samples(cars)"
      ],
      "execution_count": 91,
      "outputs": []
    },
    {
      "cell_type": "code",
      "metadata": {
        "id": "I0Ztj8Uv5oo5"
      },
      "source": [
        "def train_test_samples(x_samples, y_samples):\n",
        "    x_train, x_test, y_train, y_test = train_test_split(x_samples, y_samples,\n",
        "                                                        test_size=0.1)\n",
        "    \n",
        "    return x_train, x_test, y_train, y_test"
      ],
      "execution_count": 95,
      "outputs": []
    },
    {
      "cell_type": "code",
      "metadata": {
        "id": "MQuQUrTN6Dym"
      },
      "source": [
        "x_train, x_test, y_train, y_test = train_test_samples(x_samples, y_samples)\n",
        "print(x_train.shape)\n",
        "print(y_train.shape)\n",
        "print(x_test.shape)\n",
        "print(y_test.shape)"
      ],
      "execution_count": null,
      "outputs": []
    },
    {
      "cell_type": "code",
      "metadata": {
        "id": "AiobdoOB3cYK"
      },
      "source": [
        "def scaler_creation():\n",
        "    scaler = StandardScaler()\n",
        "\n",
        "    return scaler"
      ],
      "execution_count": 97,
      "outputs": []
    },
    {
      "cell_type": "code",
      "metadata": {
        "id": "cZU5ZBu43r5v"
      },
      "source": [
        "scaler = scaler_creation()"
      ],
      "execution_count": 98,
      "outputs": []
    },
    {
      "cell_type": "code",
      "metadata": {
        "id": "bRF-wYReteLp"
      },
      "source": [
        "def scaler_price(y_samples, scaler):\n",
        "    y_train_scaled = scaler.fit_transform(y_train.reshape(-1, 1)).flatten()\n",
        "\n",
        "    return y_train_scaled\n",
        "\n",
        "\n",
        "pep8(_ih)"
      ],
      "execution_count": null,
      "outputs": []
    },
    {
      "cell_type": "code",
      "metadata": {
        "id": "OCnqlkz53A25"
      },
      "source": [
        "y_train_scaled = scaler_price(y_train, scaler)"
      ],
      "execution_count": 100,
      "outputs": []
    },
    {
      "cell_type": "code",
      "metadata": {
        "id": "e5drWKtQz-lL"
      },
      "source": [
        "def back_scaler_price(scaler, prediction):\n",
        "    price = scaler.inverse_transform(prediction).flatten()\n",
        "\n",
        "    return price"
      ],
      "execution_count": 102,
      "outputs": []
    },
    {
      "cell_type": "code",
      "metadata": {
        "id": "zg461LnW6qWB"
      },
      "source": [
        "def create_model():\n",
        "    model = Sequential()\n",
        "\n",
        "    model.add(Dense(1024, activation='relu', input_shape=(3206,)))\n",
        "    model.add(Dropout(0.2))\n",
        "    model.add(Dense(128, activation='relu'))\n",
        "    model.add(Dense(1, activation='linear'))\n",
        "\n",
        "    model.compile(loss='mse', optimizer=Adam(learning_rate=0.001))\n",
        "\n",
        "    return model\n",
        "\n",
        "\n",
        "pep8(_ih)"
      ],
      "execution_count": null,
      "outputs": []
    },
    {
      "cell_type": "code",
      "metadata": {
        "id": "Obx3x_-s7Lu0"
      },
      "source": [
        "model = create_model()"
      ],
      "execution_count": 134,
      "outputs": []
    },
    {
      "cell_type": "code",
      "metadata": {
        "id": "tdQDBqASmp_3"
      },
      "source": [
        "def learn_model(model, x_train, y_train_scaled, batch_size, epoch):\n",
        "    history = model.fit(x_train, y_train_scaled, batch_size=batch_size, epochs=epoch,\n",
        "                        validation_split=0.2, verbose=1)\n",
        "\n",
        "    return history, model\n",
        "\n",
        "\n",
        "pep8(_ih)"
      ],
      "execution_count": null,
      "outputs": []
    },
    {
      "cell_type": "code",
      "metadata": {
        "colab": {
          "base_uri": "https://localhost:8080/"
        },
        "id": "XbmS57xiqjnL",
        "outputId": "d38f8cb1-e7de-4962-e62b-7ee76ec04b5e"
      },
      "source": [
        "history, model = learn_model(model, x_train, y_train_scaled, 32, 15)"
      ],
      "execution_count": 135,
      "outputs": [
        {
          "output_type": "stream",
          "name": "stdout",
          "text": [
            "Epoch 1/15\n",
            "1578/1578 [==============================] - 10s 6ms/step - loss: 0.1880 - val_loss: 0.1158\n",
            "Epoch 2/15\n",
            "1578/1578 [==============================] - 9s 6ms/step - loss: 0.1369 - val_loss: 0.1152\n",
            "Epoch 3/15\n",
            "1578/1578 [==============================] - 9s 6ms/step - loss: 0.1138 - val_loss: 0.1006\n",
            "Epoch 4/15\n",
            "1578/1578 [==============================] - 9s 6ms/step - loss: 0.1025 - val_loss: 0.0705\n",
            "Epoch 5/15\n",
            "1578/1578 [==============================] - 9s 6ms/step - loss: 0.0892 - val_loss: 0.0823\n",
            "Epoch 6/15\n",
            "1578/1578 [==============================] - 9s 6ms/step - loss: 0.0924 - val_loss: 0.1044\n",
            "Epoch 7/15\n",
            "1578/1578 [==============================] - 9s 6ms/step - loss: 0.0849 - val_loss: 0.0647\n",
            "Epoch 8/15\n",
            "1578/1578 [==============================] - 9s 6ms/step - loss: 0.0823 - val_loss: 0.0737\n",
            "Epoch 9/15\n",
            "1578/1578 [==============================] - 9s 6ms/step - loss: 0.0734 - val_loss: 0.0669\n",
            "Epoch 10/15\n",
            "1578/1578 [==============================] - 9s 6ms/step - loss: 0.0819 - val_loss: 0.0717\n",
            "Epoch 11/15\n",
            "1578/1578 [==============================] - 9s 6ms/step - loss: 0.0696 - val_loss: 0.0864\n",
            "Epoch 12/15\n",
            "1578/1578 [==============================] - 9s 6ms/step - loss: 0.0701 - val_loss: 0.0742\n",
            "Epoch 13/15\n",
            "1578/1578 [==============================] - 9s 6ms/step - loss: 0.0598 - val_loss: 0.1978\n",
            "Epoch 14/15\n",
            "1578/1578 [==============================] - 9s 6ms/step - loss: 0.0580 - val_loss: 0.0775\n",
            "Epoch 15/15\n",
            "1578/1578 [==============================] - 9s 6ms/step - loss: 0.0696 - val_loss: 0.0966\n"
          ]
        }
      ]
    },
    {
      "cell_type": "code",
      "metadata": {
        "id": "6JMbg5PZn34T"
      },
      "source": [
        "def plot_results(history):\n",
        "    plt.plot(history.history['loss'],\n",
        "            label='Loss on the test sample')\n",
        "    plt.plot(history.history['val_loss'],\n",
        "            label='Losson the validation sample')\n",
        "\n",
        "    plt.xlabel('Epoch')\n",
        "    plt.ylabel('Loss')\n",
        "\n",
        "    plt.legend()\n",
        "    plt.show()\n",
        "\n",
        "    return plt.show()\n",
        "\n",
        "\n",
        "pep8(_ih)"
      ],
      "execution_count": null,
      "outputs": []
    },
    {
      "cell_type": "code",
      "metadata": {
        "id": "4XpMN9nkuJOB"
      },
      "source": [
        "plot_results(history)"
      ],
      "execution_count": null,
      "outputs": []
    },
    {
      "cell_type": "code",
      "metadata": {
        "id": "Uia8eh_a007B"
      },
      "source": [
        "def predict_model(model,x_test):\n",
        "    prediction = model.predict(x_test)\n",
        "\n",
        "    return prediction"
      ],
      "execution_count": 58,
      "outputs": []
    },
    {
      "cell_type": "code",
      "metadata": {
        "id": "oGquV2tk1SOH"
      },
      "source": [
        "prediction = back_scaler_price(scaler,predict_model(model, x_test))"
      ],
      "execution_count": 137,
      "outputs": []
    },
    {
      "cell_type": "code",
      "metadata": {
        "colab": {
          "base_uri": "https://localhost:8080/"
        },
        "id": "3CAL1Oyd1pgE",
        "outputId": "27035476-8ce6-43d1-ef42-633bf9924568"
      },
      "source": [
        "mean_delta = np.mean(abs(prediction - y_test))\n",
        "mean_price = np.mean(y_test)\n",
        "print('Baze error percentage: ', round(100*mean_delta/mean_price), '%', sep='')"
      ],
      "execution_count": 138,
      "outputs": [
        {
          "output_type": "stream",
          "name": "stdout",
          "text": [
            "Baze error percentage: 13%\n"
          ]
        }
      ]
    }
  ]
}